{
  "nbformat": 4,
  "nbformat_minor": 0,
  "metadata": {
    "colab": {
      "name": "Untitled33.ipynb",
      "provenance": [],
      "collapsed_sections": []
    },
    "kernelspec": {
      "name": "python3",
      "display_name": "Python 3"
    },
    "language_info": {
      "name": "python"
    }
  },
  "cells": [
    {
      "cell_type": "code",
      "metadata": {
        "id": "ifMMvjByp39v"
      },
      "source": [
        "\n",
        "f = open(\"part-00000\", \"r\")\n",
        "Lines = f.readlines()\n",
        "\n"
      ],
      "execution_count": 1,
      "outputs": []
    },
    {
      "cell_type": "code",
      "metadata": {
        "id": "LTxYwhWB5qBq"
      },
      "source": [
        "\n",
        "\n",
        "topics = []\n",
        "upvotes=[]\n",
        "\n",
        "\n",
        "for line in Lines: \n",
        "    key, value = line.strip().split(\"\\t\")\n",
        "    value = eval(value)\n",
        "    \n",
        "    *key, case = key.split(\":\")\n",
        "    key = \":\".join(key) # handle the case where key has a :\n",
        "    if case == \"upvotes\":\n",
        "        if value > 500:\n",
        "            upvotes.append((key, value))\n",
        "    elif case == \"topics\":\n",
        "        topics.append((key, value))"
      ],
      "execution_count": 4,
      "outputs": []
    },
    {
      "cell_type": "code",
      "metadata": {
        "id": "W3sdsp7Y53n8"
      },
      "source": [
        "import csv\n",
        "header = ['SUBREDDIT NAMES', 'TOP THREE DISCUSSED TOPICS']\n",
        "\n",
        "with open('TOP THREE DISCUSSED TOPICS FOR EVERY SUBREDDIT.csv', 'w', encoding='UTF8', newline='') as f:\n",
        "    writer = csv.writer(f, delimiter=',')\n",
        "    writer.writerow(header)\n",
        "    # write multiple rows\n",
        "    writer.writerows(topics)\n"
      ],
      "execution_count": 3,
      "outputs": []
    },
    {
      "cell_type": "code",
      "metadata": {
        "id": "m_4-nfub64AX"
      },
      "source": [
        "header = ['SUBREDDIT NAMES', 'TOP THREE DISCUSSED TOPICS']\n",
        "\n",
        "with open('TOP UPVOTES.csv', 'w', encoding='UTF8', newline='') as f:\n",
        "    writer = csv.writer(f, delimiter=',')\n",
        "    writer.writerow(header)\n",
        "    # write multiple rows\n",
        "    writer.writerows(upvotes)"
      ],
      "execution_count": 5,
      "outputs": []
    },
    {
      "cell_type": "code",
      "metadata": {
        "id": "mvBcZ3eH2vkK"
      },
      "source": [
        ""
      ],
      "execution_count": null,
      "outputs": []
    }
  ]
}